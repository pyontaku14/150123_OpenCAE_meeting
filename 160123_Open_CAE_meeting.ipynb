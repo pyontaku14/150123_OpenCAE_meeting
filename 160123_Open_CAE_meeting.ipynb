{
 "cells": [
  {
   "cell_type": "markdown",
   "metadata": {},
   "source": [
    "# 有限要素法のためのPython入門"
   ]
  },
  {
   "cell_type": "markdown",
   "metadata": {},
   "source": [
    "## 環境構築 (for Ubuntu64bit)"
   ]
  },
  {
   "cell_type": "markdown",
   "metadata": {},
   "source": [
    "DEXCSが動くUbuntu64bit環境を想定。\n",
    "\n",
    "http://dexcs.gifu-nct.ac.jp/download/\n",
    "\n",
    "使用するのはPython2。\n",
    "Ubuntuには標準でPython2がインストールされている。\n",
    "Pythonを起動するとバージョン情報が確認できる。\n",
    "\n",
    "$ python<br> \n",
    "Python 2.7.6 (default, Jun 22 2015, 17:58:13) <br> \n",
    "[GCC 4.8.2] on linux2<br> \n",
    "Type \"help\", \"copyright\", \"credits\" or \"license\" for more information.<br>\n",
    "\\>>><br> \n",
    "\n",
    "終了するときはCtr+Z\n",
    "\n",
    "KeyboardInterrupt<br>\n",
    "\\>>><br> \n",
    "[2]+  停止                  python\n",
    "$ "
   ]
  },
  {
   "cell_type": "markdown",
   "metadata": {},
   "source": [
    "### ◯Anacondaインストール (推奨)\n",
    "\n",
    "以下からAnaconda (python2)をインストールすれば、numpy, matplotlib, scipyをインストールできる。\n",
    "\n",
    "https://www.continuum.io/downloads\n",
    "\n",
    "jupyter (ipython notebook)は以下のコマンドでインストール。\n",
    "\n",
    "conda install jupyter"
   ]
  },
  {
   "cell_type": "markdown",
   "metadata": {},
   "source": [
    "### ◯numpy, matplotlib, scipy, Getfem++, gmsh, jupyter (ipython notebook)インストール\n",
    "\n",
    "numpy, matplotlib, scipyはそれぞれpip installからインストールできる。\n",
    "\n",
    "pip install numpy<br>\n",
    "pip install matplotlib<br>\n",
    "pip install scipy<br>\n",
    "\n",
    "Getfem++は以下のコマンドでインストール。\n",
    "\n",
    "sudo apt-get update; sudo apt-get install python-getfem++\n",
    "\n",
    "結果出力とGUI表示のため、gmshとjupyter (ipython-notebook)をインストール。\n",
    "\n",
    "sudo apt-get install gmsh pip; sudo pip install notebook\n",
    "\n",
    "確認はPython起動し、importしてみる。\n",
    "\n",
    "$ python<br> \n",
    "Python 2.7.6 (default, Jun 22 2015, 17:58:13) <br> \n",
    "[GCC 4.8.2] on linux2<br> \n",
    "Type \"help\", \"copyright\", \"credits\" or \"license\" for more information.<br>\n",
    "\\>>> import numpy <br>\n",
    "\\>>> import matplotlib <br>\n",
    "\\>>> import scipy <br>\n",
    "\\>>> import getfem <br>\n",
    "\\>>> <br>\n"
   ]
  },
  {
   "cell_type": "markdown",
   "metadata": {},
   "source": [
    "以下の方法は時間と手間がかかるため、極力、上記の方法が推奨。\n",
    "\n",
    "- ダウンロード済みのtarからインストール (numpyの例)\n",
    "\n",
    "tarを解凍\n",
    "\n",
    "tar xvf numpy-1.10.4.tar.gz\n",
    "\n",
    "numpyディレクトリに移動\n",
    "\n",
    "cd numpy-1.10.4\n",
    "\n",
    "インストール\n",
    "\n",
    "sudo ./setup.py install\n",
    "\n",
    "matplotlib, scipyも同様。 \n",
    "\n",
    "Getfem++, gmsh, jupyter (ipython notebook)未"
   ]
  },
  {
   "cell_type": "code",
   "execution_count": null,
   "metadata": {
    "collapsed": true
   },
   "outputs": [],
   "source": []
  }
 ],
 "metadata": {
  "kernelspec": {
   "display_name": "Python 2",
   "language": "python",
   "name": "python2"
  },
  "language_info": {
   "codemirror_mode": {
    "name": "ipython",
    "version": 2
   },
   "file_extension": ".py",
   "mimetype": "text/x-python",
   "name": "python",
   "nbconvert_exporter": "python",
   "pygments_lexer": "ipython2",
   "version": "2.7.6"
  }
 },
 "nbformat": 4,
 "nbformat_minor": 0
}
